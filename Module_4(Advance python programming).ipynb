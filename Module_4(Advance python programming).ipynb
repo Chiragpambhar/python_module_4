{
 "cells": [
  {
   "cell_type": "code",
   "execution_count": null,
   "id": "42f37c90",
   "metadata": {},
   "outputs": [],
   "source": [
    "# What is File function in python? What is keywords to create and write file.\n",
    "\n",
    "# ---> Python file object provides methods and attributes to access and manipulate files. \n",
    "# ---> Using file objects, we can read or write any files.\n",
    "# ---> create -- if file exist then it gives error and if not exist then create a file\n",
    "# ---> write -- if file exist then it open for writing purpose and all old content will be deleted \n",
    "#               and if file not prsent then a new file will be created but it will not give error"
   ]
  },
  {
   "cell_type": "code",
   "execution_count": 17,
   "id": "dd4b3796",
   "metadata": {},
   "outputs": [
    {
     "name": "stdout",
     "output_type": "stream",
     "text": [
      "My name is chirag pambhar\n",
      "My father name is Arvindbhai\n",
      "My age is 23\n",
      "My birthdate is 18/02/1999\n",
      "My mobile number is 7359405592\n",
      "my mother name is Bhanu ben\n"
     ]
    }
   ],
   "source": [
    "# Write a Python program to read an entire text file. \n",
    "\n",
    "fp = open(\"demo.txt\",\"r\")\n",
    "print(fp.read())                   # to read file\n",
    "fp.close()"
   ]
  },
  {
   "cell_type": "code",
   "execution_count": 25,
   "id": "31b07f3a",
   "metadata": {},
   "outputs": [
    {
     "name": "stdout",
     "output_type": "stream",
     "text": [
      "My name is chirag pambhar\n",
      "My father name is Arvindbhai\n",
      "My age is 23\n",
      "My birthdate is 18/02/1999\n",
      "My mobile number is 7359405592\n",
      "my mother name is Bhanu ben\n"
     ]
    }
   ],
   "source": [
    "# Write a Python program to append text to a file and display the text. \n",
    "\n",
    "fp =open(\"demo.txt\",\"a\")\n",
    "fp.write(\"my mother name is Bhanu ben\")                  # to append the text\n",
    "fp =open(\"demo.txt\",\"r\")\n",
    "print(fp.read())                      # to read file"
   ]
  },
  {
   "cell_type": "code",
   "execution_count": 19,
   "id": "beb5409b",
   "metadata": {},
   "outputs": [
    {
     "name": "stdout",
     "output_type": "stream",
     "text": [
      "My name is chirag pambhar\n",
      "\n"
     ]
    }
   ],
   "source": [
    "# Write a Python program to read first n lines of a file. \n",
    "\n",
    "fp = open(\"demo.txt\",\"r\")\n",
    "print(fp.readline())                    # to read first line\n",
    "fp.close()"
   ]
  },
  {
   "cell_type": "code",
   "execution_count": 26,
   "id": "fcc970d6",
   "metadata": {},
   "outputs": [
    {
     "name": "stdout",
     "output_type": "stream",
     "text": [
      "my mother name is Bhanu ben\n"
     ]
    }
   ],
   "source": [
    "# Write a Python program to read last n lines of a file.\n",
    "\n",
    "fp = open('demo.txt', 'r')\n",
    "for line in fp:         # to use read line by line \n",
    "        pass\n",
    "last_line = line\n",
    "print(last_line)"
   ]
  },
  {
   "cell_type": "code",
   "execution_count": 27,
   "id": "885efb85",
   "metadata": {},
   "outputs": [
    {
     "name": "stdout",
     "output_type": "stream",
     "text": [
      "['My name is chirag pambhar\\n', 'My father name is Arvindbhai\\n', 'My age is 23\\n', 'My birthdate is 18/02/1999\\n', 'My mobile number is 7359405592\\n', 'my mother name is Bhanu ben']\n"
     ]
    }
   ],
   "source": [
    "# Write a Python program to read a file line by line and store it into a list\n",
    "\n",
    "fp = open(\"demo.txt\",\"r\")\n",
    "list1 = fp.readlines()  # converted in list\n",
    "print(list1)"
   ]
  },
  {
   "cell_type": "code",
   "execution_count": 17,
   "id": "777f3a2c",
   "metadata": {},
   "outputs": [
    {
     "name": "stdout",
     "output_type": "stream",
     "text": [
      "My name is chirag pambhar\n",
      "My father name is Arvindbhai\n",
      "My age is 23\n",
      "My birthdate is 18/02/1999\n",
      "My mobile number is 7359405592\n",
      "my mother name is Bhanu ben\n",
      "hello\n",
      "World\n"
     ]
    }
   ],
   "source": [
    "# Write a Python program to read a file line by line store it into a variable. \n",
    "\n",
    "fp = open(\"demo.txt\",\"r\")\n",
    "str1=\"\"\n",
    "for i in range(0,100):\n",
    "    str1 = str1 + fp.read(i)\n",
    "\n",
    "print(str1)\n"
   ]
  },
  {
   "cell_type": "code",
   "execution_count": 13,
   "id": "3ce93879",
   "metadata": {},
   "outputs": [
    {
     "name": "stdout",
     "output_type": "stream",
     "text": [
      "['Arvindbhai', '18/02/1999', '7359405592']\n"
     ]
    }
   ],
   "source": [
    "# Write a python program to find the longest words.\n",
    "\n",
    "def longest_word(filename):\n",
    "    with open(filename, 'r') as infile:\n",
    "              words = infile.read().split()\n",
    "    max_len = len(max(words, key=len))            # To check length of word\n",
    "    return [word for word in words if len(word) == max_len]            \n",
    "\n",
    "print(longest_word('demo.txt'))\n"
   ]
  },
  {
   "cell_type": "code",
   "execution_count": 28,
   "id": "eaa5e2e9",
   "metadata": {},
   "outputs": [
    {
     "name": "stdout",
     "output_type": "stream",
     "text": [
      "Count the number of lines: 6\n"
     ]
    }
   ],
   "source": [
    "# Write a Python program to count the number of lines in a text file. \n",
    "\n",
    "fp = open(\"demo.txt\",\"r\")\n",
    "line = len(fp.readlines())             # count the number of lines\n",
    "print(f\"Count the number of lines: {line}\")"
   ]
  },
  {
   "cell_type": "code",
   "execution_count": 29,
   "id": "f7ffe618",
   "metadata": {},
   "outputs": [
    {
     "name": "stdout",
     "output_type": "stream",
     "text": [
      "Number of words in text file: 29\n"
     ]
    }
   ],
   "source": [
    "# Write a Python program to count the frequency of words in a file.\n",
    "\n",
    "fp = open(\"demo.txt\",\"r\")\n",
    "word = fp.read().split()      # To find count of words\n",
    "count_word = len(word)      \n",
    "print(f\"Number of words in text file: {count_word}\")"
   ]
  },
  {
   "cell_type": "code",
   "execution_count": 43,
   "id": "b114b223",
   "metadata": {},
   "outputs": [
    {
     "name": "stdout",
     "output_type": "stream",
     "text": [
      "My name is chirag pambhar\n",
      "My father name is Arvindbhai\n",
      "My age is 23\n",
      "My birthdate is 18/02/1999\n",
      "My mobile number is 7359405592\n",
      "my mother name is Bhanu ben\n",
      "hello\n",
      "World\n"
     ]
    }
   ],
   "source": [
    "# Write a Python program to write a list to a file.\n",
    "\n",
    "list1 = [\"hello\",\"World\"]\n",
    "fp = open(\"demo.txt\",\"a\")\n",
    "fp.write(\"\\n\".join(list1))     # To write list to a file\n",
    "fp = open(\"demo.txt\",\"r\")\n",
    "print(fp.read())       # To read file\n"
   ]
  },
  {
   "cell_type": "code",
   "execution_count": 49,
   "id": "31d1aac6",
   "metadata": {},
   "outputs": [
    {
     "name": "stdout",
     "output_type": "stream",
     "text": [
      "My name is chirag pambhar\n",
      "My father name is Arvindbhai\n",
      "My age is 23\n",
      "My birthdate is 18/02/1999\n",
      "My mobile number is 7359405592\n",
      "my mother name is Bhanu ben\n",
      "hello\n",
      "World\n"
     ]
    }
   ],
   "source": [
    "# Write a Python program to copy the contents of a file to another file.\n",
    "\n",
    "fp = open(\"demo.txt\",\"r\")\n",
    "fp1 = open(\"demo1.txt\",\"a\")\n",
    "for line in fp:\n",
    "    fp1.write(line)\n",
    "fp1 = open(\"demo1.txt\",\"r\")\n",
    "print(fp1.read())"
   ]
  },
  {
   "cell_type": "code",
   "execution_count": null,
   "id": "b64b74d1",
   "metadata": {},
   "outputs": [],
   "source": [
    "# Explain Exception handling? What is an Error in Python? \n",
    "\n",
    "# ---> An exception is an event, which occurs during the execution of a program that disrupts the normal flow of the \n",
    "# ---> program's instructions. In general, when a Python script encounters a situation that it cannot cope with, \n",
    "# ---> it raises an exception. An exception is a Python object that represents an error.\\\n"
   ]
  },
  {
   "cell_type": "code",
   "execution_count": null,
   "id": "657266b3",
   "metadata": {},
   "outputs": [],
   "source": [
    "# How many except statements can a try-except block have? Name Some built-in exception classes: \n",
    "\n",
    "# ---> There has to be at least one except statement.\n",
    "# ---> 1) ArithmeticException\n",
    "# ---> 2) ArrayIndexOutOfBoundsException\n",
    "# ---> 3) ClassCastException\n",
    "# ---> 4) NumberFormatException\n",
    "# ---> 5) SecurityException\n",
    "# ---> 6) UnsupportedOperationException etc...\n"
   ]
  },
  {
   "cell_type": "code",
   "execution_count": null,
   "id": "26b1ac65",
   "metadata": {},
   "outputs": [],
   "source": [
    "# When will the else part of try-except-else be executed?\n",
    "\n",
    "# ---> The else part is executed when no exception occurs.\n"
   ]
  },
  {
   "cell_type": "code",
   "execution_count": null,
   "id": "81719a6d",
   "metadata": {},
   "outputs": [],
   "source": [
    "# Can one block of except statements handle multiple exception? \n",
    "\n",
    "# ---> In Python, try-except blocks can be used to catch and respond to one or multiple exceptions. \n",
    "# ---> In cases where a process raises more than one possible exception, they can all be handled using a single except clause.\n"
   ]
  },
  {
   "cell_type": "code",
   "execution_count": null,
   "id": "1369e283",
   "metadata": {},
   "outputs": [],
   "source": [
    "# When is the finally block executed? \n",
    "\n",
    "#---> The finally block always executes when the try block exits. \n",
    "#---> This ensures that the finally block is executed even if an unexpected exception occurs.\n"
   ]
  },
  {
   "cell_type": "code",
   "execution_count": null,
   "id": "c643045d",
   "metadata": {},
   "outputs": [],
   "source": [
    "# What happens when „1‟== 1 is executed? \n",
    "\n",
    "# ---> Easy explanation - It simply evaluates to False and does not raise any exception.\n"
   ]
  },
  {
   "cell_type": "code",
   "execution_count": null,
   "id": "e96faedd",
   "metadata": {},
   "outputs": [],
   "source": [
    "# How Do You Handle Exceptions With Try/Except/Finally In Python?Explain with coding snippets.\n",
    "\n",
    "# ---> First try clause is executed i.e. the code between try and except clause. If there is no exception,\n",
    "# ---> then only try clause will run, except clause will not get executed. \n",
    "# ---> If any exception occurs, the try clause will be skipped and except clause will run.\n"
   ]
  },
  {
   "cell_type": "code",
   "execution_count": 8,
   "id": "2cf2318d",
   "metadata": {},
   "outputs": [
    {
     "name": "stdout",
     "output_type": "stream",
     "text": [
      "Enter an odd number: 4\n",
      "Even number entered. Please enter an odd number.\n",
      "Enter an odd number: 5\n",
      "Odd number entered: 5\n"
     ]
    }
   ],
   "source": [
    "# Write python program that user to enter only odd numbers, else will raise an exception. \n",
    "\n",
    "def get_number():\n",
    "    while True:\n",
    "        try:\n",
    "            num = int(input(\"Enter an odd number: \"))\n",
    "            if num % 2 == 0:                                  # To check even number or odd\n",
    "                raise ValueError(\"Even number entered. Please enter an odd number.\")\n",
    "            return num\n",
    "        except ValueError as ve:\n",
    "            print(ve)\n",
    "        \n",
    "try:\n",
    "    odd_number = get_number()                # To check odd number and get number are equl\n",
    "    print(f\"Odd number entered: {odd_number}\")\n",
    "except Exception as e:\n",
    "    print(f\"Error: {e}\")\n"
   ]
  },
  {
   "cell_type": "code",
   "execution_count": null,
   "id": "60530302",
   "metadata": {},
   "outputs": [],
   "source": [
    "# What are oops concepts? Is multiple inheritance supported in java \n",
    "\n",
    "# ---> OOPS in java is to improve code readability and reusability by defining a Java program efficiently.\n",
    "# ---> The main principles of object-oriented programming are abstraction, encapsulation, inheritance, and polymorphism.\n",
    "# ---> These concepts aim to implement real-world entities in programs.\n",
    "# ---> Unlike other Object-oriented programming languages, Java doesn't support multiple inheritance.\n"
   ]
  },
  {
   "cell_type": "code",
   "execution_count": null,
   "id": "b40c5377",
   "metadata": {},
   "outputs": [],
   "source": [
    "# How to Define a Class in Python? What Is Self? Give An Example Of A Python Class\n",
    "\n",
    "# ---> A class in Python can be defined using the class keyword. As per the syntax above, a class is defined using \n",
    "# ---> the class keyword followed by the class name and : operator after the class name, \n",
    "# ---> which allows you to continue in the next indented line to define class members. The followings are class members.\n",
    "# ---> Self comes from the Old English, in which it means \"one's own person.\"\n",
    "# ---> Definitions of self. your consciousness of your own identity.\n",
    "# ---> For example, suppose Bike is a class then we can create objects like bike1 , bike2 , etc from the class. \n",
    "# ---> Here's the syntax to create an object. Here, bike1 is the object of the class. \n",
    "# ---> Now, we can use this object to access the class attributes.\n"
   ]
  },
  {
   "cell_type": "code",
   "execution_count": 1,
   "id": "1af2d7a6",
   "metadata": {},
   "outputs": [
    {
     "name": "stdout",
     "output_type": "stream",
     "text": [
      "Enter a ractangle length: 10\n",
      "Enter a rectangle width: 20\n",
      "Rectangle area : 200\n"
     ]
    }
   ],
   "source": [
    "#Write a Python class named Rectangle constructed by a length and width and a method which will compute the area of a rectangle\n",
    "\n",
    "class rectangle():\n",
    "    def __init__(self):\n",
    "        self.length = int(input(\"Enter a ractangle length: \")) \n",
    "        self.width = int(input(\"Enter a rectangle width: \"))\n",
    "        \n",
    "    def area(self):\n",
    "        self.area = self.length * self.width      # rectangle formulla \n",
    "        print(f\"Rectangle area : {self.area}\")\n",
    "\n",
    "rect = rectangle()\n",
    "rect.area()"
   ]
  },
  {
   "cell_type": "code",
   "execution_count": 5,
   "id": "1a951a0d",
   "metadata": {},
   "outputs": [
    {
     "name": "stdout",
     "output_type": "stream",
     "text": [
      "Enter a circle radius : 10\n",
      "Circle area : 314.0\n",
      "Circle perimeter: 62.800000000000004\n"
     ]
    }
   ],
   "source": [
    "# Write a Python class named Circle constructed by a radius and two methods which will compute the area and the \n",
    "# perimeter of a circle\n",
    "\n",
    "class circle():\n",
    "    def __init__(self):\n",
    "        self.radius = int(input(\"Enter a circle radius : \"))\n",
    "        \n",
    "    def area(self):\n",
    "        self.area = 3.14 * self.radius * self.radius       # circle area formulla \n",
    "        print(f\"Circle area : {self.area}\")\n",
    "        \n",
    "    def perimeter(self):\n",
    "        self.perimeter = 2 * 3.14 * self.radius\n",
    "        print(f\"Circle perimeter: {self.perimeter}\")\n",
    "        \n",
    "cir = circle()\n",
    "cir.area()\n",
    "cir.perimeter()"
   ]
  },
  {
   "cell_type": "code",
   "execution_count": null,
   "id": "8eadfd04",
   "metadata": {},
   "outputs": [],
   "source": [
    "# Explain Inheritance in Python with an example? What is init? Or What Is A Constructor In Python? \n",
    "\n",
    "# ---> Inheritance allows us to define a class that inherits all the methods and properties from another class.\n",
    "# ---> A triangle is a polygon with 3 sides. So, we can create a class called Triangle which inherits from Polygon . \n",
    "# ---> This makes all the attributes of Polygon class available to the Triangle class. \n",
    "# ---> We don't need to define them again (code reusability).\n",
    "# ---> The __init__ method is the Python equivalent of the C++ constructor in an object-oriented approach. \n",
    "# ---> The constructor is a method that is called when an object is created. \n",
    "# ---> This method is defined in the class and can be used to initialize basic variables. \n",
    "# ---> If you create four objects, the class constructor is called four times. \n",
    "# ---> Every class has a constructor, but its not required to explicitly define it.\n"
   ]
  },
  {
   "cell_type": "code",
   "execution_count": null,
   "id": "0a4de525",
   "metadata": {},
   "outputs": [],
   "source": [
    "# What is Instantiation in terms of OOP terminology? \n",
    "\n",
    "# ---> Instantiate (a verb) and instantiation (the noun) in computer science refer to the creation of an object \n",
    "# ---> (or an “instance” of a given class) in an object-oriented programming (OOP) language. Referencing a class declaration, \n",
    "# ---> an instantiated object is named and created, in memory or on disk.\n"
   ]
  },
  {
   "cell_type": "code",
   "execution_count": null,
   "id": "66148442",
   "metadata": {},
   "outputs": [],
   "source": [
    "# What is used to check whether an object o is an instance of class A? \n",
    "\n",
    "# ---> The Python's isinstance() function checks whether the object or variable is an instance of the specified class \n",
    "# ---> type or data type. For example, isinstance(name, str) checks if name is an instance of a class str .\n"
   ]
  },
  {
   "cell_type": "code",
   "execution_count": null,
   "id": "9d40e5b5",
   "metadata": {},
   "outputs": [],
   "source": [
    "# What relationship is appropriate for Course and Faculty?\n",
    "\n",
    "# ---> association\n"
   ]
  },
  {
   "cell_type": "code",
   "execution_count": null,
   "id": "0f2e57d0",
   "metadata": {},
   "outputs": [],
   "source": [
    "# What relationship is appropriate for Student and Person?\n",
    "\n",
    "# ---> inheritance"
   ]
  }
 ],
 "metadata": {
  "kernelspec": {
   "display_name": "Python 3 (ipykernel)",
   "language": "python",
   "name": "python3"
  },
  "language_info": {
   "codemirror_mode": {
    "name": "ipython",
    "version": 3
   },
   "file_extension": ".py",
   "mimetype": "text/x-python",
   "name": "python",
   "nbconvert_exporter": "python",
   "pygments_lexer": "ipython3",
   "version": "3.10.9"
  }
 },
 "nbformat": 4,
 "nbformat_minor": 5
}
